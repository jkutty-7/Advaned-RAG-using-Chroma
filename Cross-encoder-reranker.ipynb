{
 "cells": [
  {
   "cell_type": "markdown",
   "id": "f057401b-a4ee-462a-9ba9-3e342e06eb1a",
   "metadata": {},
   "source": [
    "## Cross-encoder re-ranking"
   ]
  },
  {
   "cell_type": "code",
   "execution_count": 1,
   "id": "5a5536f0-651c-40e7-aa15-27ee0cda80b7",
   "metadata": {
    "height": 81
   },
   "outputs": [],
   "source": [
    "from helper_utils import load_chroma, word_wrap, project_embeddings\n",
    "from chromadb.utils.embedding_functions import SentenceTransformerEmbeddingFunction\n",
    "import numpy as np"
   ]
  },
  {
   "cell_type": "code",
   "execution_count": 2,
   "id": "3748b16d-d4a7-49c3-a48a-57dcfc42acd6",
   "metadata": {
    "height": 98
   },
   "outputs": [
    {
     "name": "stderr",
     "output_type": "stream",
     "text": [
      "C:\\Users\\deepa\\anaconda3\\envs\\jkutty\\Lib\\site-packages\\pandas\\core\\arrays\\masked.py:60: UserWarning: Pandas requires version '1.3.6' or newer of 'bottleneck' (version '1.3.5' currently installed).\n",
      "  from pandas.core import (\n"
     ]
    },
    {
     "data": {
      "text/plain": [
       "349"
      ]
     },
     "execution_count": 2,
     "metadata": {},
     "output_type": "execute_result"
    }
   ],
   "source": [
    "embedding_function = SentenceTransformerEmbeddingFunction()\n",
    "\n",
    "chroma_collection = load_chroma(filename='microsoft_annual_report_2022.pdf', collection_name='microsoft_annual_report_2022', embedding_function=embedding_function)\n",
    "chroma_collection.count()"
   ]
  },
  {
   "cell_type": "markdown",
   "id": "68486bf8-37dd-4257-a23b-9ef50c47bcc5",
   "metadata": {},
   "source": [
    "# Re-ranking the long tail"
   ]
  },
  {
   "cell_type": "code",
   "execution_count": 3,
   "id": "888a86f8-2fe2-4682-bdaf-c15129ed1a32",
   "metadata": {
    "height": 166
   },
   "outputs": [
    {
     "name": "stdout",
     "output_type": "stream",
     "text": [
      "• operating expenses increased $ 1. 5 billion or 14 % driven by\n",
      "investments in gaming, search and news advertising, and windows\n",
      "marketing. operating expenses research and development ( in millions,\n",
      "except percentages ) 2022 2021 percentage change research and\n",
      "development $ 24, 512 $ 20, 716 18 % as a percent of revenue 12 % 12 %\n",
      "0ppt research and development expenses include payroll, employee\n",
      "benefits, stock - based compensation expense, and other headcount -\n",
      "related expenses associated with product development. research and\n",
      "development expenses also include third - party development and\n",
      "programming costs, localization costs incurred to translate software\n",
      "for international markets, and the amortization of purchased software\n",
      "code and services content. research and development expenses increased\n",
      "$ 3. 8 billion or 18 % driven by investments in cloud engineering,\n",
      "gaming, and linkedin. sales and marketing\n",
      "\n",
      "competitive in local markets and enables us to continue to attract top\n",
      "talent from across the world. we plan to continue to make significant\n",
      "investments in a broad range of product research and development\n",
      "activities, and as appropriate we will coordinate our research and\n",
      "development across operating segments and leverage the results across\n",
      "the company. in addition to our main research and development\n",
      "operations, we also operate microsoft research. microsoft research is\n",
      "one of the world ’ s largest corporate research organizations and works\n",
      "in close collaboration with top universities around the world to\n",
      "advance the state - of - the - art in computer science and a broad\n",
      "range of other disciplines, providing us a unique perspective on future\n",
      "trends and contributing to our innovation.\n",
      "\n",
      "our success is based on our ability to create new and compelling\n",
      "products, services, and experiences for our users, to initiate and\n",
      "embrace disruptive technology trends, to enter new geographic and\n",
      "product markets, and to drive broad adoption of our products and\n",
      "services. we invest in a range of emerging technology trends and\n",
      "breakthroughs that we believe offer significant opportunities to\n",
      "deliver value to our customers and growth for the company. based on our\n",
      "assessment of key technology trends, we maintain our long - term\n",
      "commitment to research and development across a wide spectrum of\n",
      "technologies, tools, and platforms spanning digital work and life\n",
      "experiences, cloud computing, ai, devices, and operating systems. while\n",
      "our main product research and development facilities are located in\n",
      "redmond, washington, we also operate research and development\n",
      "facilities in other parts of the u. s. and around the world. this\n",
      "global approach helps us remain\n",
      "\n",
      "when the world around us does well. that ’ s what i believe will lead\n",
      "to widespread human progress and ultimately improve the lives of\n",
      "everyone. there is no more powerful input than digital technology to\n",
      "drive the world ’ s economic output. this is the core thesis for our\n",
      "being as a company, but it ’ s not enough. as we drive global economic\n",
      "growth, we must also commit to creating a more inclusive, equitable,\n",
      "sustainable, and trusted future. support inclusive economic growth we\n",
      "must ensure the growth we drive reaches every person, organization,\n",
      "community, and country. this starts with increasing access to digital\n",
      "skills. this year alone, more than 23 million people accessed digital\n",
      "skills training as part of our global skills initiative.\n",
      "\n",
      "also increased the number of identified partners in the black partner\n",
      "growth initiative and continue to invest in the partner community\n",
      "through the black channel partner alliance by supporting events focused\n",
      "on business growth, accelerators, and mentorship. progress does not\n",
      "undo the egregious injustices of the past or diminish those who\n",
      "continue to live with inequity. we are committed to leveraging our\n",
      "resources to help accelerate diversity and inclusion across our\n",
      "ecosystem and to hold ourselves accountable to accelerate change – for\n",
      "microsoft, and beyond. investing in digital skills the covid - 19\n",
      "pandemic led to record unemployment, disrupting livelihoods of people\n",
      "around the world. after helping over 30 million people in 249 countries\n",
      "and territories with our global skills initiative, we introduced a new\n",
      "initiative to support a more skills - based labor market, with greater\n",
      "flexibility and accessible learning paths to develop the right skills\n",
      "\n",
      "at times, we make select intellectual property broadly available at no\n",
      "or low cost to achieve a strategic objective, such as promoting\n",
      "industry standards, advancing interoperability, supporting societal and\n",
      "/ or environmental efforts, or attracting and enabling our external\n",
      "development community. our increasing engagement with open source\n",
      "software will also cause us to license our intellectual property rights\n",
      "broadly in certain situations. while it may be necessary in the future\n",
      "to seek or renew licenses relating to various aspects of our products,\n",
      "services, and business methods, we believe, based upon past experience\n",
      "and industry practice, such licenses generally can be obtained on\n",
      "commercially reasonable terms. we believe our continuing research and\n",
      "product development are not materially dependent on any single license\n",
      "or other agreement with a third party relating to the development of\n",
      "our products. investing in the future\n",
      "\n",
      "but generally include parts and labor over a period generally ranging\n",
      "from 90 days to three years. for software warranties, we estimate the\n",
      "costs to provide bug fixes, such as security patches, over the\n",
      "estimated life of the software. we regularly reevaluate our estimates\n",
      "to assess the adequacy of the recorded warranty liabilities and adjust\n",
      "the amounts as necessary. research and development research and\n",
      "development expenses include payroll, employee benefits, stock - based\n",
      "compensation expense, and other headcount - related expenses associated\n",
      "with product development. research and development expenses also\n",
      "include third - party development and programming costs, localization\n",
      "costs incurred to translate software for international markets, and the\n",
      "amortization of purchased software code and services content. such\n",
      "costs related to software development are included in research and\n",
      "development expense until the point that technological feasibility is\n",
      "reached, which for our\n",
      "\n",
      "fiscal year 2021 was a year of both successes and challenges. while we\n",
      "continued to make progress on several of our goals, with an overall\n",
      "reduction in our combined scope 1 and scope 2 emissions, our scope 3\n",
      "emissions increased, due in substantial part to significant global\n",
      "datacenter expansions and growth in xbox sales and usage as a result of\n",
      "the covid - 19 pandemic. despite these scope 3 increases, we will\n",
      "continue to build the foundations and do the work to deliver on our\n",
      "commitments, and help our customers and partners achieve theirs. we\n",
      "have learned the impact of our work will not all be felt immediately,\n",
      "and our experience highlights how progress won ’ t always be linear.\n",
      "while fiscal year 2021 presented us with some new learnings, we also\n",
      "made some great progress. a few examples that illuminate the diversity\n",
      "of our work include : • we purchased the removal of 1. 4 million\n",
      "metrics tons of carbon.\n",
      "\n",
      "we protect our intellectual property investments in a variety of ways.\n",
      "we work actively in the u. s. and internationally to ensure the\n",
      "enforcement of copyright, trademark, trade secret, and other\n",
      "protections that apply to our software and hardware products, services,\n",
      "business plans, and branding. we are a leader among technology\n",
      "companies in pursuing patents and currently have a portfolio of over\n",
      "69, 000 u. s. and international patents issued and over 19, 000 pending\n",
      "worldwide. while we employ much of our internally - developed\n",
      "intellectual property exclusively in our products and services, we also\n",
      "engage in outbound licensing of specific patented technologies that are\n",
      "incorporated into licensees ’ products. from time to time, we enter\n",
      "into broader cross - license agreements with other technology companies\n",
      "covering entire groups of patents. we may also purchase or license\n",
      "technology that we incorporate into our products and services.\n",
      "\n",
      "15 corporate social responsibility commitment to sustainability we work\n",
      "to ensure that technology is inclusive, trusted, and increases\n",
      "sustainability. we are accelerating progress toward a more sustainable\n",
      "future by reducing our environmental footprint, advancing research,\n",
      "helping our customers build sustainable solutions, and advocating for\n",
      "policies that benefit the environment. in january 2020, we announced a\n",
      "bold commitment and detailed plan to be carbon negative by 2030, and to\n",
      "remove from the environment by 2050 all the carbon we have emitted\n",
      "since our founding in 1975. this included a commitment to invest $ 1\n",
      "billion over four years in new technologies and innovative climate\n",
      "solutions. we built on this pledge by adding commitments to be water\n",
      "positive by 2030, zero waste by 2030, and to protect ecosystems by\n",
      "developing a planetary computer. we also help our suppliers and\n",
      "customers around the world use microsoft technology to reduce their own\n",
      "carbon footprint.\n",
      "\n"
     ]
    }
   ],
   "source": [
    "query = \"What has been the investment in research and development?\"\n",
    "results = chroma_collection.query(query_texts=query, n_results=10, include=['documents', 'embeddings'])\n",
    "\n",
    "retrieved_documents = results['documents'][0]\n",
    "\n",
    "for document in results['documents'][0]:\n",
    "    print(word_wrap(document))\n",
    "    print('')"
   ]
  },
  {
   "cell_type": "code",
   "execution_count": 4,
   "id": "5665c695-22ea-4264-b1ac-5ba720b6d78b",
   "metadata": {
    "height": 64
   },
   "outputs": [
    {
     "data": {
      "application/vnd.jupyter.widget-view+json": {
       "model_id": "1bea9ce313e34459a285c7b0ddc2fbbf",
       "version_major": 2,
       "version_minor": 0
      },
      "text/plain": [
       "config.json:   0%|          | 0.00/794 [00:00<?, ?B/s]"
      ]
     },
     "metadata": {},
     "output_type": "display_data"
    },
    {
     "name": "stderr",
     "output_type": "stream",
     "text": [
      "C:\\Users\\deepa\\anaconda3\\envs\\jkutty\\Lib\\site-packages\\huggingface_hub\\file_download.py:148: UserWarning: `huggingface_hub` cache-system uses symlinks by default to efficiently store duplicated files but your machine does not support them in C:\\Users\\deepa\\.cache\\huggingface\\hub\\models--cross-encoder--ms-marco-MiniLM-L-6-v2. Caching files will still work but in a degraded version that might require more space on your disk. This warning can be disabled by setting the `HF_HUB_DISABLE_SYMLINKS_WARNING` environment variable. For more details, see https://huggingface.co/docs/huggingface_hub/how-to-cache#limitations.\n",
      "To support symlinks on Windows, you either need to activate Developer Mode or to run Python as an administrator. In order to see activate developer mode, see this article: https://docs.microsoft.com/en-us/windows/apps/get-started/enable-your-device-for-development\n",
      "  warnings.warn(message)\n"
     ]
    },
    {
     "data": {
      "application/vnd.jupyter.widget-view+json": {
       "model_id": "0c2dc29e46c24a8ba372184a70e7dfac",
       "version_major": 2,
       "version_minor": 0
      },
      "text/plain": [
       "pytorch_model.bin:   0%|          | 0.00/90.9M [00:00<?, ?B/s]"
      ]
     },
     "metadata": {},
     "output_type": "display_data"
    },
    {
     "name": "stderr",
     "output_type": "stream",
     "text": [
      "C:\\Users\\deepa\\anaconda3\\envs\\jkutty\\Lib\\site-packages\\torch\\_utils.py:831: UserWarning: TypedStorage is deprecated. It will be removed in the future and UntypedStorage will be the only storage class. This should only matter to you if you are using storages directly.  To access UntypedStorage directly, use tensor.untyped_storage() instead of tensor.storage()\n",
      "  return self.fget.__get__(instance, owner)()\n"
     ]
    },
    {
     "data": {
      "application/vnd.jupyter.widget-view+json": {
       "model_id": "60afc7a96f80446aa3c6171adb489431",
       "version_major": 2,
       "version_minor": 0
      },
      "text/plain": [
       "tokenizer_config.json:   0%|          | 0.00/316 [00:00<?, ?B/s]"
      ]
     },
     "metadata": {},
     "output_type": "display_data"
    },
    {
     "data": {
      "application/vnd.jupyter.widget-view+json": {
       "model_id": "0aa71878251344ae8692753bc478ae40",
       "version_major": 2,
       "version_minor": 0
      },
      "text/plain": [
       "vocab.txt:   0%|          | 0.00/232k [00:00<?, ?B/s]"
      ]
     },
     "metadata": {},
     "output_type": "display_data"
    },
    {
     "data": {
      "application/vnd.jupyter.widget-view+json": {
       "model_id": "435d9e054df64aeea2d6db439ef84cbf",
       "version_major": 2,
       "version_minor": 0
      },
      "text/plain": [
       "special_tokens_map.json:   0%|          | 0.00/112 [00:00<?, ?B/s]"
      ]
     },
     "metadata": {},
     "output_type": "display_data"
    }
   ],
   "source": [
    "from sentence_transformers import CrossEncoder\n",
    "cross_encoder = CrossEncoder('cross-encoder/ms-marco-MiniLM-L-6-v2')"
   ]
  },
  {
   "cell_type": "code",
   "execution_count": 5,
   "id": "c2a13d14-4484-46f0-8e67-277337f9d138",
   "metadata": {
    "height": 115
   },
   "outputs": [
    {
     "name": "stdout",
     "output_type": "stream",
     "text": [
      "Scores:\n",
      "0.9869336\n",
      "2.6445777\n",
      "-0.26802945\n",
      "-10.731592\n",
      "-7.706608\n",
      "-5.6470013\n",
      "-4.297036\n",
      "-10.933232\n",
      "-7.0384283\n",
      "-7.3246937\n"
     ]
    }
   ],
   "source": [
    "pairs = [[query, doc] for doc in retrieved_documents]\n",
    "scores = cross_encoder.predict(pairs)\n",
    "print(\"Scores:\")\n",
    "for score in scores:\n",
    "    print(score)"
   ]
  },
  {
   "cell_type": "code",
   "execution_count": 6,
   "id": "8ba6c8c5-9ce4-44d0-9223-6fdd77871f87",
   "metadata": {
    "height": 65
   },
   "outputs": [
    {
     "name": "stdout",
     "output_type": "stream",
     "text": [
      "New Ordering:\n",
      "2\n",
      "1\n",
      "3\n",
      "7\n",
      "6\n",
      "9\n",
      "10\n",
      "5\n",
      "4\n",
      "8\n"
     ]
    }
   ],
   "source": [
    "print(\"New Ordering:\")\n",
    "for o in np.argsort(scores)[::-1]:\n",
    "    print(o+1)"
   ]
  },
  {
   "cell_type": "markdown",
   "id": "9f54cc00-eebc-4294-91bf-1a2cdce51708",
   "metadata": {},
   "source": [
    "# Re-ranking with Query Expansion"
   ]
  },
  {
   "cell_type": "code",
   "execution_count": 7,
   "id": "377a84aa-1d93-4e97-9b2d-d59c46355338",
   "metadata": {
    "height": 166
   },
   "outputs": [],
   "source": [
    "original_query = \"What were the most important factors that contributed to increases in revenue?\"\n",
    "generated_queries = [\n",
    "    \"What were the major drivers of revenue growth?\",\n",
    "    \"Were there any new product launches that contributed to the increase in revenue?\",\n",
    "    \"Did any changes in pricing or promotions impact the revenue growth?\",\n",
    "    \"What were the key market trends that facilitated the increase in revenue?\",\n",
    "    \"Did any acquisitions or partnerships contribute to the revenue growth?\"\n",
    "]"
   ]
  },
  {
   "cell_type": "code",
   "execution_count": 8,
   "id": "ba0ed8ca-6640-4c09-9cb3-9de5e7cf46dc",
   "metadata": {
    "height": 98
   },
   "outputs": [
    {
     "name": "stdout",
     "output_type": "stream",
     "text": [
      "[['engineering, gaming, and linkedin. • sales and marketing expenses increased $ 1. 7 billion or 8 % driven by investments in commercial sales and linkedin. sales and marketing included a favorable foreign currency impact of 2 %. • general and administrative expenses increased $ 793 million or 16 % driven by investments in corporate functions. operating income increased $ 13. 5 billion or 19 % driven by growth across each of our segments. current year net income and diluted eps were positively impacted by the net tax benefit related to the transfer of intangible properties, which resulted in an increase to net income and diluted eps of $ 3. 3 billion and $ 0. 44, respectively. prior year net income and diluted eps were positively impacted by the net tax benefit related to the india supreme court decision on withholding taxes, which resulted in an increase to net income and diluted eps of $ 620 million and $ 0. 08, respectively.', 'independent recalculation of prices where appropriate. cash flows cash from operations increased $ 12. 3 billion to $ 89. 0 billion for fiscal year 2022, mainly due to an increase in cash received from customers, offset in part by an increase in cash paid to suppliers and employees. cash used in financing increased $ 10. 4 billion to $ 58. 9 billion for fiscal year 2022, mainly due to a $ 5. 3 billion increase in common stock repurchases and a $ 5. 3 billion increase in repayments of debt. cash used in investing increased $ 2. 7 billion to $ 30. 3 billion for fiscal year 2022, mainly due to a $ 13. 1 billion increase in cash used for acquisitions of companies, net of cash acquired, and purchases of intangible and other assets, and a $ 3. 3 billion increase in additions to property and equipment, offset in part by a $ 15. 6 billion increase in cash from net investment purchases, sales, and maturities.', '37 general and administrative expenses include payroll, employee benefits, stock - based compensation expense, and other headcount - related expenses associated with finance, legal, facilities, certain human resources and other administrative personnel, certain taxes, and legal and other administrative fees. general and administrative expenses increased $ 793 million or 16 % driven by investments in corporate functions. other income ( expense ), net the components of other income ( expense ), net were as follows : ( in millions ) year ended june 30, 2022 2021 interest and dividends income $ 2, 094 $ 2, 131 interest expense ( 2, 063 ) ( 2, 346 ) net recognized gains on investments 461 1, 232 net gains ( losses ) on derivatives ( 52 ) 17 net gains ( losses ) on foreign currency remeasurements ( 75 ) 54 other, net ( 32 ) 98 total $ 333 $ 1, 186', 'product revenue includes sales from operating systems, cross - device productivity applications, server applications, business solution applications, desktop and server management tools, software development tools, video games, and hardware such as pcs, tablets, gaming and entertainment consoles, other intelligent devices, and related accessories.', '• windows revenue increased $ 2. 3 billion or 10 % driven by growth in windows oem and windows commercial. windows oem revenue increased 11 % driven by continued strength in the commercial pc market, which has higher revenue per license. windows commercial products and cloud services revenue increased 11 % driven by demand for microsoft 365.', 'services. server products revenue increased 5 % driven by hybrid solutions, including windows server and sql server running in multi - cloud environments. • enterprise services revenue increased $ 464 million or 7 % driven by growth in enterprise support services. operating income increased $ 6. 6 billion or 25 %. • gross margin increased $ 9. 4 billion or 22 % driven by growth in azure and other cloud services. gross margin percentage decreased. excluding the impact of the change in accounting estimate, gross margin percentage was relatively unchanged driven by improvement in azure and other cloud services, offset in part by sales mix shift to azure and other cloud services. • operating expenses increased $ 2. 8 billion or 16 % driven by investments in azure and other cloud services. revenue and operating income included an unfavorable foreign currency impact of 2 % and 3 %, respectively. more personal computing revenue increased $ 5. 6 billion or 10 %.', '( in millions, except percentages ) 2022 2021 percentage change sales and marketing $ 21, 825 $ 20, 117 8 % as a percent of revenue 11 % 12 % ( 1 ) ppt sales and marketing expenses include payroll, employee benefits, stock - based compensation expense, and other headcount - related expenses associated with sales and marketing personnel, and the costs of advertising, promotions, trade shows, seminars, and other programs. sales and marketing expenses increased $ 1. 7 billion or 8 % driven by investments in commercial sales and linkedin. sales and marketing included a favorable foreign currency impact of 2 %. general and administrative ( in millions, except percentages ) 2022 2021 percentage change general and administrative $ 5, 900 $ 5, 107 16 % as a percent of revenue 3 % 3 % 0ppt', '34 net income tax benefit related to an india supreme court decision on withholding taxes in the third quarter of fiscal year 2021. refer to the non - gaap financial measures section below for a reconciliation of our financial results reported in accordance with gaap to non - gaap financial results. see note 12 – income taxes of the notes to financial statements in our fiscal year 2022 form 10 - k for further discussion. fiscal year 2022 compared with fiscal year 2021 revenue increased $ 30. 2 billion or 18 % driven by growth across each of our segments. intelligent cloud revenue increased driven by azure and other cloud services. productivity and business processes revenue increased driven by office 365 commercial and linkedin. more personal computing revenue increased driven by search and news advertising and windows. cost of revenue increased $ 10. 4 billion or 20 % driven by growth in microsoft cloud.', 'income before tax. other reconciling items, net', '47 financial statements and supplementary data income statements ( in millions, except per share amounts ) year ended june 30, 2022 2021 2020 revenue : product $ 72, 732 $ 71, 074 $ 68, 041 service and other 125, 538 97, 014 74, 974 total revenue 198, 270 168, 088 143, 015 cost of revenue : product 19, 064 18, 219 16, 017 service and other 43, 586 34, 013 30, 061 total cost of revenue 62, 650 52, 232 46, 078 gross margin 135, 620 115, 856 96, 937 research and development 24, 512 20, 716 19, 269 sales and marketing 21, 825 20, 117 19, 598 general and administrative 5, 900 5, 107 5, 111 operating income 83, 383 69, 916 52, 959 other income, net 333 1, 186 77 income before income taxes 83, 716 71, 102 53, 036 provision for income taxes 10, 978 9, 831 8, 755'], ['engineering, gaming, and linkedin. • sales and marketing expenses increased $ 1. 7 billion or 8 % driven by investments in commercial sales and linkedin. sales and marketing included a favorable foreign currency impact of 2 %. • general and administrative expenses increased $ 793 million or 16 % driven by investments in corporate functions. operating income increased $ 13. 5 billion or 19 % driven by growth across each of our segments. current year net income and diluted eps were positively impacted by the net tax benefit related to the transfer of intangible properties, which resulted in an increase to net income and diluted eps of $ 3. 3 billion and $ 0. 44, respectively. prior year net income and diluted eps were positively impacted by the net tax benefit related to the india supreme court decision on withholding taxes, which resulted in an increase to net income and diluted eps of $ 620 million and $ 0. 08, respectively.', 'productivity and business processes $ 29, 687 $ 24, 351 $ 18, 724 intelligent cloud 32, 721 26, 126 18, 324 more personal computing 20, 975 19, 439 15, 911 total $ 83, 383 $ 69, 916 $ 52, 959 no sales to an individual customer or country other than the united states accounted for more than 10 % of revenue for fiscal years 2022, 2021, or 2020. revenue, classified by the major geographic areas in which our customers were located, was as follows : ( in millions ) year ended june 30, 2022 2021 2020 united states ( a ) $ 100, 218 $ 83, 953 $ 73, 160 other countries 98, 052 84, 135 69, 855 total $ 198, 270 $ 168, 088 $ 143, 015 ( a ) includes billings to oems and certain multinational organizations because of the nature of these businesses and the impracticability of determining the geographic source of the revenue.', '37 general and administrative expenses include payroll, employee benefits, stock - based compensation expense, and other headcount - related expenses associated with finance, legal, facilities, certain human resources and other administrative personnel, certain taxes, and legal and other administrative fees. general and administrative expenses increased $ 793 million or 16 % driven by investments in corporate functions. other income ( expense ), net the components of other income ( expense ), net were as follows : ( in millions ) year ended june 30, 2022 2021 interest and dividends income $ 2, 094 $ 2, 131 interest expense ( 2, 063 ) ( 2, 346 ) net recognized gains on investments 461 1, 232 net gains ( losses ) on derivatives ( 52 ) 17 net gains ( losses ) on foreign currency remeasurements ( 75 ) 54 other, net ( 32 ) 98 total $ 333 $ 1, 186', 'services. server products revenue increased 5 % driven by hybrid solutions, including windows server and sql server running in multi - cloud environments. • enterprise services revenue increased $ 464 million or 7 % driven by growth in enterprise support services. operating income increased $ 6. 6 billion or 25 %. • gross margin increased $ 9. 4 billion or 22 % driven by growth in azure and other cloud services. gross margin percentage decreased. excluding the impact of the change in accounting estimate, gross margin percentage was relatively unchanged driven by improvement in azure and other cloud services, offset in part by sales mix shift to azure and other cloud services. • operating expenses increased $ 2. 8 billion or 16 % driven by investments in azure and other cloud services. revenue and operating income included an unfavorable foreign currency impact of 2 % and 3 %, respectively. more personal computing revenue increased $ 5. 6 billion or 10 %.', '• windows revenue increased $ 2. 3 billion or 10 % driven by growth in windows oem and windows commercial. windows oem revenue increased 11 % driven by continued strength in the commercial pc market, which has higher revenue per license. windows commercial products and cloud services revenue increased 11 % driven by demand for microsoft 365.', 'product revenue includes sales from operating systems, cross - device productivity applications, server applications, business solution applications, desktop and server management tools, software development tools, video games, and hardware such as pcs, tablets, gaming and entertainment consoles, other intelligent devices, and related accessories.', '35 reportable segments fiscal year 2022 compared with fiscal year 2021 productivity and business processes revenue increased $ 9. 4 billion or 18 %. • office commercial products and cloud services revenue increased $ 4. 4 billion or 13 %. office 365 commercial revenue grew 18 % driven by seat growth of 14 %, with continued momentum in small and medium business and frontline worker offerings, as well as growth in revenue per user. office commercial products revenue declined 22 % driven by continued customer shift to cloud offerings. • office consumer products and cloud services revenue increased $ 641 million or 11 % driven by microsoft 365 consumer subscription revenue. microsoft 365 consumer subscribers grew 15 % to 59. 7 million. • linkedin revenue increased $ 3. 5 billion or 34 % driven by a strong job market in our talent solutions business and advertising demand in our marketing solutions business.', '82 in addition, certain costs incurred at a corporate level that are identifiable and that benefit our segments are allocated to them. these allocated costs include legal, including settlements and fines, information technology, human resources, finance, excise taxes, field selling, shared facilities services, and customer service and support. each allocation is measured differently based on the specific facts and circumstances of the costs being allocated. segment revenue and operating income were as follows during the periods presented : ( in millions ) year ended june 30, 2022 2021 2020 revenue productivity and business processes $ 63, 364 $ 53, 915 $ 46, 398 intelligent cloud 75, 251 60, 080 48, 366 more personal computing 59, 655 54, 093 48, 251 total $ 198, 270 $ 168, 088 $ 143, 015 operating income', 'gross margin and operating income both included an unfavorable foreign currency impact of 2 %. segment results of operations ( in millions, except percentages ) 2022 2021 percentage change revenue productivity and business processes $ 63, 364 $ 53, 915 18 % intelligent cloud 75, 251 60, 080 25 % more personal computing 59, 655 54, 093 10 % total $ 198, 270 $ 168, 088 18 % operating income productivity and business processes $ 29, 687 $ 24, 351 22 % intelligent cloud 32, 721 26, 126 25 % more personal computing 20, 975 19, 439 8 % total $ 83, 383 $ 69, 916 19 %', '74 note 13 — unearned revenue unearned revenue by segment was as follows : ( in millions ) june 30, 2022 2021 productivity and business processes $ 24, 558 $ 22, 120 intelligent cloud 19, 371 17, 710 more personal computing 4, 479 4, 311 total $ 48, 408 $ 44, 141 changes in unearned revenue were as follows : ( in millions ) year ended june 30, 2022 balance, beginning of period $ 44, 141 deferral of revenue 110, 455 recognition of unearned revenue ( 106, 188 ) balance, end of period $ 48, 408 revenue allocated to remaining performance obligations, which includes unearned revenue and amounts that will be invoiced and recognized as revenue in future periods, was $ 193 billion as of june 30, 2022, of which $ 189 billion is related to the commercial portion of revenue. we expect to recognize approximately 45 % of this revenue over the next 12'], ['35 reportable segments fiscal year 2022 compared with fiscal year 2021 productivity and business processes revenue increased $ 9. 4 billion or 18 %. • office commercial products and cloud services revenue increased $ 4. 4 billion or 13 %. office 365 commercial revenue grew 18 % driven by seat growth of 14 %, with continued momentum in small and medium business and frontline worker offerings, as well as growth in revenue per user. office commercial products revenue declined 22 % driven by continued customer shift to cloud offerings. • office consumer products and cloud services revenue increased $ 641 million or 11 % driven by microsoft 365 consumer subscription revenue. microsoft 365 consumer subscribers grew 15 % to 59. 7 million. • linkedin revenue increased $ 3. 5 billion or 34 % driven by a strong job market in our talent solutions business and advertising demand in our marketing solutions business.', 'highlights from fiscal year 2022 compared with fiscal year 2021 included : • microsoft cloud ( formerly commercial cloud ) revenue increased 32 % to $ 91. 2 billion. • office commercial products and cloud services revenue increased 13 % driven by office 365 commercial growth of 18 %. • office consumer products and cloud services revenue increased 11 % and microsoft 365 consumer subscribers grew to 59. 7 million. • linkedin revenue increased 34 %. • dynamics products and cloud services revenue increased 25 % driven by dynamics 365 growth of 39 %. • server products and cloud services revenue increased 28 % driven by azure and other cloud services growth of 45 %. • windows original equipment manufacturer licensing ( “ windows oem ” ) revenue increased 11 %. • windows commercial products and cloud services revenue increased 11 %. • xbox content and services revenue increased 3 %. • search and news advertising revenue excluding traffic acquisition costs increased 27 %.', 'product revenue includes sales from operating systems, cross - device productivity applications, server applications, business solution applications, desktop and server management tools, software development tools, video games, and hardware such as pcs, tablets, gaming and entertainment consoles, other intelligent devices, and related accessories.', '36 • search and news advertising revenue increased $ 2. 3 billion or 25 %. search and news advertising revenue excluding traffic acquisition costs increased 27 % driven by higher revenue per search and search volume. • gaming revenue increased $ 860 million or 6 % on a strong prior year comparable that benefited from xbox series x | s launches and stay - at - home scenarios, driven by growth in xbox hardware and xbox content and services. xbox hardware revenue increased 16 % due to continued demand for xbox series x | s. xbox content and services revenue increased 3 % driven by growth in xbox game pass subscriptions and first - party content, offset in part by a decline in third - party content. • surface revenue increased $ 226 million or 3 %. operating income increased $ 1. 5 billion or 8 %. • gross margin increased $ 3. 1 billion or 10 % driven by growth in windows and search and news advertising. gross margin percentage was relatively unchanged.', '• windows revenue increased $ 2. 3 billion or 10 % driven by growth in windows oem and windows commercial. windows oem revenue increased 11 % driven by continued strength in the commercial pc market, which has higher revenue per license. windows commercial products and cloud services revenue increased 11 % driven by demand for microsoft 365.', 'revenue, classified by significant product and service offerings, was as follows : ( in millions ) year ended june 30, 2022 2021 2020 server products and cloud services $ 67, 321 $ 52, 589 $ 41, 379 office products and cloud services 44, 862 39, 872 35, 316 windows 24, 761 22, 488 21, 510 gaming 16, 230 15, 370 11, 575 linkedin 13, 816 10, 289 8, 077 search and news advertising 11, 591 9, 267 8, 524 enterprise services 7, 407 6, 943 6, 409 devices 6, 991 6, 791 6, 457 other 5, 291 4, 479 3, 768 total $ 198, 270 $ 168, 088 $ 143, 015 we have recast certain previously reported amounts in the table above to conform to the way we internally manage and monitor our business.', 'commercial and consumer businesses. as we have diversity of target audiences and sales motions within the windows business, we monitor metrics that are reflective of those varying motions. windows oem revenue growth revenue from sales of windows pro and non - pro licenses sold through the oem channel windows commercial products and cloud services revenue growth revenue from windows commercial products and cloud services, comprising volume licensing of the windows operating system, windows cloud services, and other windows commercial offerings surface revenue growth revenue from surface devices and accessories xbox content and services revenue growth revenue from xbox content and services, comprising first - and third - party content ( including games and in - game content ), xbox game pass and other subscriptions, xbox cloud gaming, third - party disc royalties, advertising, and other cloud services search and news advertising revenue,', '74 note 13 — unearned revenue unearned revenue by segment was as follows : ( in millions ) june 30, 2022 2021 productivity and business processes $ 24, 558 $ 22, 120 intelligent cloud 19, 371 17, 710 more personal computing 4, 479 4, 311 total $ 48, 408 $ 44, 141 changes in unearned revenue were as follows : ( in millions ) year ended june 30, 2022 balance, beginning of period $ 44, 141 deferral of revenue 110, 455 recognition of unearned revenue ( 106, 188 ) balance, end of period $ 48, 408 revenue allocated to remaining performance obligations, which includes unearned revenue and amounts that will be invoiced and recognized as revenue in future periods, was $ 193 billion as of june 30, 2022, of which $ 189 billion is related to the commercial portion of revenue. we expect to recognize approximately 45 % of this revenue over the next 12', '34 net income tax benefit related to an india supreme court decision on withholding taxes in the third quarter of fiscal year 2021. refer to the non - gaap financial measures section below for a reconciliation of our financial results reported in accordance with gaap to non - gaap financial results. see note 12 – income taxes of the notes to financial statements in our fiscal year 2022 form 10 - k for further discussion. fiscal year 2022 compared with fiscal year 2021 revenue increased $ 30. 2 billion or 18 % driven by growth across each of our segments. intelligent cloud revenue increased driven by azure and other cloud services. productivity and business processes revenue increased driven by office 365 commercial and linkedin. more personal computing revenue increased driven by search and news advertising and windows. cost of revenue increased $ 10. 4 billion or 20 % driven by growth in microsoft cloud.', 'change will increase our fiscal year 2023 operating income by $ 3. 7 billion. we had previously increased the estimated useful lives of both server and network equipment in july 2020.'], ['( in millions, except percentages ) 2022 2021 percentage change sales and marketing $ 21, 825 $ 20, 117 8 % as a percent of revenue 11 % 12 % ( 1 ) ppt sales and marketing expenses include payroll, employee benefits, stock - based compensation expense, and other headcount - related expenses associated with sales and marketing personnel, and the costs of advertising, promotions, trade shows, seminars, and other programs. sales and marketing expenses increased $ 1. 7 billion or 8 % driven by investments in commercial sales and linkedin. sales and marketing included a favorable foreign currency impact of 2 %. general and administrative ( in millions, except percentages ) 2022 2021 percentage change general and administrative $ 5, 900 $ 5, 107 16 % as a percent of revenue 3 % 3 % 0ppt', '35 reportable segments fiscal year 2022 compared with fiscal year 2021 productivity and business processes revenue increased $ 9. 4 billion or 18 %. • office commercial products and cloud services revenue increased $ 4. 4 billion or 13 %. office 365 commercial revenue grew 18 % driven by seat growth of 14 %, with continued momentum in small and medium business and frontline worker offerings, as well as growth in revenue per user. office commercial products revenue declined 22 % driven by continued customer shift to cloud offerings. • office consumer products and cloud services revenue increased $ 641 million or 11 % driven by microsoft 365 consumer subscription revenue. microsoft 365 consumer subscribers grew 15 % to 59. 7 million. • linkedin revenue increased $ 3. 5 billion or 34 % driven by a strong job market in our talent solutions business and advertising demand in our marketing solutions business.', '• windows revenue increased $ 2. 3 billion or 10 % driven by growth in windows oem and windows commercial. windows oem revenue increased 11 % driven by continued strength in the commercial pc market, which has higher revenue per license. windows commercial products and cloud services revenue increased 11 % driven by demand for microsoft 365.', '36 • search and news advertising revenue increased $ 2. 3 billion or 25 %. search and news advertising revenue excluding traffic acquisition costs increased 27 % driven by higher revenue per search and search volume. • gaming revenue increased $ 860 million or 6 % on a strong prior year comparable that benefited from xbox series x | s launches and stay - at - home scenarios, driven by growth in xbox hardware and xbox content and services. xbox hardware revenue increased 16 % due to continued demand for xbox series x | s. xbox content and services revenue increased 3 % driven by growth in xbox game pass subscriptions and first - party content, offset in part by a decline in third - party content. • surface revenue increased $ 226 million or 3 %. operating income increased $ 1. 5 billion or 8 %. • gross margin increased $ 3. 1 billion or 10 % driven by growth in windows and search and news advertising. gross margin percentage was relatively unchanged.', 'highlights from fiscal year 2022 compared with fiscal year 2021 included : • microsoft cloud ( formerly commercial cloud ) revenue increased 32 % to $ 91. 2 billion. • office commercial products and cloud services revenue increased 13 % driven by office 365 commercial growth of 18 %. • office consumer products and cloud services revenue increased 11 % and microsoft 365 consumer subscribers grew to 59. 7 million. • linkedin revenue increased 34 %. • dynamics products and cloud services revenue increased 25 % driven by dynamics 365 growth of 39 %. • server products and cloud services revenue increased 28 % driven by azure and other cloud services growth of 45 %. • windows original equipment manufacturer licensing ( “ windows oem ” ) revenue increased 11 %. • windows commercial products and cloud services revenue increased 11 %. • xbox content and services revenue increased 3 %. • search and news advertising revenue excluding traffic acquisition costs increased 27 %.', 'engineering, gaming, and linkedin. • sales and marketing expenses increased $ 1. 7 billion or 8 % driven by investments in commercial sales and linkedin. sales and marketing included a favorable foreign currency impact of 2 %. • general and administrative expenses increased $ 793 million or 16 % driven by investments in corporate functions. operating income increased $ 13. 5 billion or 19 % driven by growth across each of our segments. current year net income and diluted eps were positively impacted by the net tax benefit related to the transfer of intangible properties, which resulted in an increase to net income and diluted eps of $ 3. 3 billion and $ 0. 44, respectively. prior year net income and diluted eps were positively impacted by the net tax benefit related to the india supreme court decision on withholding taxes, which resulted in an increase to net income and diluted eps of $ 620 million and $ 0. 08, respectively.', '34 net income tax benefit related to an india supreme court decision on withholding taxes in the third quarter of fiscal year 2021. refer to the non - gaap financial measures section below for a reconciliation of our financial results reported in accordance with gaap to non - gaap financial results. see note 12 – income taxes of the notes to financial statements in our fiscal year 2022 form 10 - k for further discussion. fiscal year 2022 compared with fiscal year 2021 revenue increased $ 30. 2 billion or 18 % driven by growth across each of our segments. intelligent cloud revenue increased driven by azure and other cloud services. productivity and business processes revenue increased driven by office 365 commercial and linkedin. more personal computing revenue increased driven by search and news advertising and windows. cost of revenue increased $ 10. 4 billion or 20 % driven by growth in microsoft cloud.', 'services. server products revenue increased 5 % driven by hybrid solutions, including windows server and sql server running in multi - cloud environments. • enterprise services revenue increased $ 464 million or 7 % driven by growth in enterprise support services. operating income increased $ 6. 6 billion or 25 %. • gross margin increased $ 9. 4 billion or 22 % driven by growth in azure and other cloud services. gross margin percentage decreased. excluding the impact of the change in accounting estimate, gross margin percentage was relatively unchanged driven by improvement in azure and other cloud services, offset in part by sales mix shift to azure and other cloud services. • operating expenses increased $ 2. 8 billion or 16 % driven by investments in azure and other cloud services. revenue and operating income included an unfavorable foreign currency impact of 2 % and 3 %, respectively. more personal computing revenue increased $ 5. 6 billion or 10 %.', '74 note 13 — unearned revenue unearned revenue by segment was as follows : ( in millions ) june 30, 2022 2021 productivity and business processes $ 24, 558 $ 22, 120 intelligent cloud 19, 371 17, 710 more personal computing 4, 479 4, 311 total $ 48, 408 $ 44, 141 changes in unearned revenue were as follows : ( in millions ) year ended june 30, 2022 balance, beginning of period $ 44, 141 deferral of revenue 110, 455 recognition of unearned revenue ( 106, 188 ) balance, end of period $ 48, 408 revenue allocated to remaining performance obligations, which includes unearned revenue and amounts that will be invoiced and recognized as revenue in future periods, was $ 193 billion as of june 30, 2022, of which $ 189 billion is related to the commercial portion of revenue. we expect to recognize approximately 45 % of this revenue over the next 12', 'that are not sold separately. • we tested the mathematical accuracy of management ’ s calculations of revenue and the associated timing of revenue recognized in the financial statements.'], ['36 • search and news advertising revenue increased $ 2. 3 billion or 25 %. search and news advertising revenue excluding traffic acquisition costs increased 27 % driven by higher revenue per search and search volume. • gaming revenue increased $ 860 million or 6 % on a strong prior year comparable that benefited from xbox series x | s launches and stay - at - home scenarios, driven by growth in xbox hardware and xbox content and services. xbox hardware revenue increased 16 % due to continued demand for xbox series x | s. xbox content and services revenue increased 3 % driven by growth in xbox game pass subscriptions and first - party content, offset in part by a decline in third - party content. • surface revenue increased $ 226 million or 3 %. operating income increased $ 1. 5 billion or 8 %. • gross margin increased $ 3. 1 billion or 10 % driven by growth in windows and search and news advertising. gross margin percentage was relatively unchanged.', '• windows revenue increased $ 2. 3 billion or 10 % driven by growth in windows oem and windows commercial. windows oem revenue increased 11 % driven by continued strength in the commercial pc market, which has higher revenue per license. windows commercial products and cloud services revenue increased 11 % driven by demand for microsoft 365.', '35 reportable segments fiscal year 2022 compared with fiscal year 2021 productivity and business processes revenue increased $ 9. 4 billion or 18 %. • office commercial products and cloud services revenue increased $ 4. 4 billion or 13 %. office 365 commercial revenue grew 18 % driven by seat growth of 14 %, with continued momentum in small and medium business and frontline worker offerings, as well as growth in revenue per user. office commercial products revenue declined 22 % driven by continued customer shift to cloud offerings. • office consumer products and cloud services revenue increased $ 641 million or 11 % driven by microsoft 365 consumer subscription revenue. microsoft 365 consumer subscribers grew 15 % to 59. 7 million. • linkedin revenue increased $ 3. 5 billion or 34 % driven by a strong job market in our talent solutions business and advertising demand in our marketing solutions business.', 'engineering, gaming, and linkedin. • sales and marketing expenses increased $ 1. 7 billion or 8 % driven by investments in commercial sales and linkedin. sales and marketing included a favorable foreign currency impact of 2 %. • general and administrative expenses increased $ 793 million or 16 % driven by investments in corporate functions. operating income increased $ 13. 5 billion or 19 % driven by growth across each of our segments. current year net income and diluted eps were positively impacted by the net tax benefit related to the transfer of intangible properties, which resulted in an increase to net income and diluted eps of $ 3. 3 billion and $ 0. 44, respectively. prior year net income and diluted eps were positively impacted by the net tax benefit related to the india supreme court decision on withholding taxes, which resulted in an increase to net income and diluted eps of $ 620 million and $ 0. 08, respectively.', 'independent recalculation of prices where appropriate. cash flows cash from operations increased $ 12. 3 billion to $ 89. 0 billion for fiscal year 2022, mainly due to an increase in cash received from customers, offset in part by an increase in cash paid to suppliers and employees. cash used in financing increased $ 10. 4 billion to $ 58. 9 billion for fiscal year 2022, mainly due to a $ 5. 3 billion increase in common stock repurchases and a $ 5. 3 billion increase in repayments of debt. cash used in investing increased $ 2. 7 billion to $ 30. 3 billion for fiscal year 2022, mainly due to a $ 13. 1 billion increase in cash used for acquisitions of companies, net of cash acquired, and purchases of intangible and other assets, and a $ 3. 3 billion increase in additions to property and equipment, offset in part by a $ 15. 6 billion increase in cash from net investment purchases, sales, and maturities.', '( in millions, except percentages ) 2022 2021 percentage change sales and marketing $ 21, 825 $ 20, 117 8 % as a percent of revenue 11 % 12 % ( 1 ) ppt sales and marketing expenses include payroll, employee benefits, stock - based compensation expense, and other headcount - related expenses associated with sales and marketing personnel, and the costs of advertising, promotions, trade shows, seminars, and other programs. sales and marketing expenses increased $ 1. 7 billion or 8 % driven by investments in commercial sales and linkedin. sales and marketing included a favorable foreign currency impact of 2 %. general and administrative ( in millions, except percentages ) 2022 2021 percentage change general and administrative $ 5, 900 $ 5, 107 16 % as a percent of revenue 3 % 3 % 0ppt', '34 net income tax benefit related to an india supreme court decision on withholding taxes in the third quarter of fiscal year 2021. refer to the non - gaap financial measures section below for a reconciliation of our financial results reported in accordance with gaap to non - gaap financial results. see note 12 – income taxes of the notes to financial statements in our fiscal year 2022 form 10 - k for further discussion. fiscal year 2022 compared with fiscal year 2021 revenue increased $ 30. 2 billion or 18 % driven by growth across each of our segments. intelligent cloud revenue increased driven by azure and other cloud services. productivity and business processes revenue increased driven by office 365 commercial and linkedin. more personal computing revenue increased driven by search and news advertising and windows. cost of revenue increased $ 10. 4 billion or 20 % driven by growth in microsoft cloud.', 'services. server products revenue increased 5 % driven by hybrid solutions, including windows server and sql server running in multi - cloud environments. • enterprise services revenue increased $ 464 million or 7 % driven by growth in enterprise support services. operating income increased $ 6. 6 billion or 25 %. • gross margin increased $ 9. 4 billion or 22 % driven by growth in azure and other cloud services. gross margin percentage decreased. excluding the impact of the change in accounting estimate, gross margin percentage was relatively unchanged driven by improvement in azure and other cloud services, offset in part by sales mix shift to azure and other cloud services. • operating expenses increased $ 2. 8 billion or 16 % driven by investments in azure and other cloud services. revenue and operating income included an unfavorable foreign currency impact of 2 % and 3 %, respectively. more personal computing revenue increased $ 5. 6 billion or 10 %.', '74 note 13 — unearned revenue unearned revenue by segment was as follows : ( in millions ) june 30, 2022 2021 productivity and business processes $ 24, 558 $ 22, 120 intelligent cloud 19, 371 17, 710 more personal computing 4, 479 4, 311 total $ 48, 408 $ 44, 141 changes in unearned revenue were as follows : ( in millions ) year ended june 30, 2022 balance, beginning of period $ 44, 141 deferral of revenue 110, 455 recognition of unearned revenue ( 106, 188 ) balance, end of period $ 48, 408 revenue allocated to remaining performance obligations, which includes unearned revenue and amounts that will be invoiced and recognized as revenue in future periods, was $ 193 billion as of june 30, 2022, of which $ 189 billion is related to the commercial portion of revenue. we expect to recognize approximately 45 % of this revenue over the next 12', '82 in addition, certain costs incurred at a corporate level that are identifiable and that benefit our segments are allocated to them. these allocated costs include legal, including settlements and fines, information technology, human resources, finance, excise taxes, field selling, shared facilities services, and customer service and support. each allocation is measured differently based on the specific facts and circumstances of the costs being allocated. segment revenue and operating income were as follows during the periods presented : ( in millions ) year ended june 30, 2022 2021 2020 revenue productivity and business processes $ 63, 364 $ 53, 915 $ 46, 398 intelligent cloud 75, 251 60, 080 48, 366 more personal computing 59, 655 54, 093 48, 251 total $ 198, 270 $ 168, 088 $ 143, 015 operating income'], ['engineering, gaming, and linkedin. • sales and marketing expenses increased $ 1. 7 billion or 8 % driven by investments in commercial sales and linkedin. sales and marketing included a favorable foreign currency impact of 2 %. • general and administrative expenses increased $ 793 million or 16 % driven by investments in corporate functions. operating income increased $ 13. 5 billion or 19 % driven by growth across each of our segments. current year net income and diluted eps were positively impacted by the net tax benefit related to the transfer of intangible properties, which resulted in an increase to net income and diluted eps of $ 3. 3 billion and $ 0. 44, respectively. prior year net income and diluted eps were positively impacted by the net tax benefit related to the india supreme court decision on withholding taxes, which resulted in an increase to net income and diluted eps of $ 620 million and $ 0. 08, respectively.', '37 general and administrative expenses include payroll, employee benefits, stock - based compensation expense, and other headcount - related expenses associated with finance, legal, facilities, certain human resources and other administrative personnel, certain taxes, and legal and other administrative fees. general and administrative expenses increased $ 793 million or 16 % driven by investments in corporate functions. other income ( expense ), net the components of other income ( expense ), net were as follows : ( in millions ) year ended june 30, 2022 2021 interest and dividends income $ 2, 094 $ 2, 131 interest expense ( 2, 063 ) ( 2, 346 ) net recognized gains on investments 461 1, 232 net gains ( losses ) on derivatives ( 52 ) 17 net gains ( losses ) on foreign currency remeasurements ( 75 ) 54 other, net ( 32 ) 98 total $ 333 $ 1, 186', '35 reportable segments fiscal year 2022 compared with fiscal year 2021 productivity and business processes revenue increased $ 9. 4 billion or 18 %. • office commercial products and cloud services revenue increased $ 4. 4 billion or 13 %. office 365 commercial revenue grew 18 % driven by seat growth of 14 %, with continued momentum in small and medium business and frontline worker offerings, as well as growth in revenue per user. office commercial products revenue declined 22 % driven by continued customer shift to cloud offerings. • office consumer products and cloud services revenue increased $ 641 million or 11 % driven by microsoft 365 consumer subscription revenue. microsoft 365 consumer subscribers grew 15 % to 59. 7 million. • linkedin revenue increased $ 3. 5 billion or 34 % driven by a strong job market in our talent solutions business and advertising demand in our marketing solutions business.', '36 • search and news advertising revenue increased $ 2. 3 billion or 25 %. search and news advertising revenue excluding traffic acquisition costs increased 27 % driven by higher revenue per search and search volume. • gaming revenue increased $ 860 million or 6 % on a strong prior year comparable that benefited from xbox series x | s launches and stay - at - home scenarios, driven by growth in xbox hardware and xbox content and services. xbox hardware revenue increased 16 % due to continued demand for xbox series x | s. xbox content and services revenue increased 3 % driven by growth in xbox game pass subscriptions and first - party content, offset in part by a decline in third - party content. • surface revenue increased $ 226 million or 3 %. operating income increased $ 1. 5 billion or 8 %. • gross margin increased $ 3. 1 billion or 10 % driven by growth in windows and search and news advertising. gross margin percentage was relatively unchanged.', '• windows revenue increased $ 2. 3 billion or 10 % driven by growth in windows oem and windows commercial. windows oem revenue increased 11 % driven by continued strength in the commercial pc market, which has higher revenue per license. windows commercial products and cloud services revenue increased 11 % driven by demand for microsoft 365.', 'highlights from fiscal year 2022 compared with fiscal year 2021 included : • microsoft cloud ( formerly commercial cloud ) revenue increased 32 % to $ 91. 2 billion. • office commercial products and cloud services revenue increased 13 % driven by office 365 commercial growth of 18 %. • office consumer products and cloud services revenue increased 11 % and microsoft 365 consumer subscribers grew to 59. 7 million. • linkedin revenue increased 34 %. • dynamics products and cloud services revenue increased 25 % driven by dynamics 365 growth of 39 %. • server products and cloud services revenue increased 28 % driven by azure and other cloud services growth of 45 %. • windows original equipment manufacturer licensing ( “ windows oem ” ) revenue increased 11 %. • windows commercial products and cloud services revenue increased 11 %. • xbox content and services revenue increased 3 %. • search and news advertising revenue excluding traffic acquisition costs increased 27 %.', '47 financial statements and supplementary data income statements ( in millions, except per share amounts ) year ended june 30, 2022 2021 2020 revenue : product $ 72, 732 $ 71, 074 $ 68, 041 service and other 125, 538 97, 014 74, 974 total revenue 198, 270 168, 088 143, 015 cost of revenue : product 19, 064 18, 219 16, 017 service and other 43, 586 34, 013 30, 061 total cost of revenue 62, 650 52, 232 46, 078 gross margin 135, 620 115, 856 96, 937 research and development 24, 512 20, 716 19, 269 sales and marketing 21, 825 20, 117 19, 598 general and administrative 5, 900 5, 107 5, 111 operating income 83, 383 69, 916 52, 959 other income, net 333 1, 186 77 income before income taxes 83, 716 71, 102 53, 036 provision for income taxes 10, 978 9, 831 8, 755', '66 gains ( losses ), net of tax, on derivative instruments recognized in our consolidated comprehensive income statements were as follows : ( in millions ) year ended june 30, 2022 2021 2020 designated as cash flow hedging instruments foreign exchange contracts included in effectiveness assessment $ ( 57 ) $ 34 $ ( 38 ) note 6 — inventories the components of inventories were as follows : ( in millions ) june 30, 2022 2021 raw materials $ 1, 144 $ 1, 190 work in process 82 79 finished goods 2, 516 1, 367 total $ 3, 742 $ 2, 636 note 7 — property and equipment the components of property and equipment were as follows : ( in millions ) june 30, 2022 2021 land $ 4, 734 $ 3, 660 buildings and improvements 55, 014 43, 928 leasehold improvements 7, 819 6, 884 computer equipment and software 60, 631 51, 250', 'product revenue includes sales from operating systems, cross - device productivity applications, server applications, business solution applications, desktop and server management tools, software development tools, video games, and hardware such as pcs, tablets, gaming and entertainment consoles, other intelligent devices, and related accessories.', '• dynamics products and cloud services revenue increased 25 % driven by dynamics 365 growth of 39 %. operating income increased $ 5. 3 billion or 22 %. • gross margin increased $ 7. 3 billion or 17 % driven by growth in office 365 commercial and linkedin. gross margin percentage was relatively unchanged. excluding the impact of the change in accounting estimate, gross margin percentage increased 2 points driven by improvement across all cloud services. • operating expenses increased $ 2. 0 billion or 11 % driven by investments in linkedin and cloud engineering. gross margin and operating income both included an unfavorable foreign currency impact of 2 %. intelligent cloud revenue increased $ 15. 2 billion or 25 %. • server products and cloud services revenue increased $ 14. 7 billion or 28 % driven by azure and other cloud services. azure and other cloud services revenue grew 45 % driven by growth in our consumption - based']]\n"
     ]
    }
   ],
   "source": [
    "queries = [original_query] + generated_queries\n",
    "\n",
    "results = chroma_collection.query(query_texts=queries, n_results=10, include=['documents', 'embeddings'])\n",
    "retrieved_documents = results['documents']\n",
    "print(retrieved_documents)"
   ]
  },
  {
   "cell_type": "code",
   "execution_count": 14,
   "id": "28bac3a2-0d29-48dc-9b48-2d9313239a25",
   "metadata": {
    "height": 133
   },
   "outputs": [
    {
     "name": "stdout",
     "output_type": "stream",
     "text": [
      "['( in millions, except percentages ) 2022 2021 percentage change sales and marketing $ 21, 825 $ 20, 117 8 % as a percent of revenue 11 % 12 % ( 1 ) ppt sales and marketing expenses include payroll, employee benefits, stock - based compensation expense, and other headcount - related expenses associated with sales and marketing personnel, and the costs of advertising, promotions, trade shows, seminars, and other programs. sales and marketing expenses increased $ 1. 7 billion or 8 % driven by investments in commercial sales and linkedin. sales and marketing included a favorable foreign currency impact of 2 %. general and administrative ( in millions, except percentages ) 2022 2021 percentage change general and administrative $ 5, 900 $ 5, 107 16 % as a percent of revenue 3 % 3 % 0ppt', '37 general and administrative expenses include payroll, employee benefits, stock - based compensation expense, and other headcount - related expenses associated with finance, legal, facilities, certain human resources and other administrative personnel, certain taxes, and legal and other administrative fees. general and administrative expenses increased $ 793 million or 16 % driven by investments in corporate functions. other income ( expense ), net the components of other income ( expense ), net were as follows : ( in millions ) year ended june 30, 2022 2021 interest and dividends income $ 2, 094 $ 2, 131 interest expense ( 2, 063 ) ( 2, 346 ) net recognized gains on investments 461 1, 232 net gains ( losses ) on derivatives ( 52 ) 17 net gains ( losses ) on foreign currency remeasurements ( 75 ) 54 other, net ( 32 ) 98 total $ 333 $ 1, 186', '• dynamics products and cloud services revenue increased 25 % driven by dynamics 365 growth of 39 %. operating income increased $ 5. 3 billion or 22 %. • gross margin increased $ 7. 3 billion or 17 % driven by growth in office 365 commercial and linkedin. gross margin percentage was relatively unchanged. excluding the impact of the change in accounting estimate, gross margin percentage increased 2 points driven by improvement across all cloud services. • operating expenses increased $ 2. 0 billion or 11 % driven by investments in linkedin and cloud engineering. gross margin and operating income both included an unfavorable foreign currency impact of 2 %. intelligent cloud revenue increased $ 15. 2 billion or 25 %. • server products and cloud services revenue increased $ 14. 7 billion or 28 % driven by azure and other cloud services. azure and other cloud services revenue grew 45 % driven by growth in our consumption - based', 'gross margin and operating income both included an unfavorable foreign currency impact of 2 %. segment results of operations ( in millions, except percentages ) 2022 2021 percentage change revenue productivity and business processes $ 63, 364 $ 53, 915 18 % intelligent cloud 75, 251 60, 080 25 % more personal computing 59, 655 54, 093 10 % total $ 198, 270 $ 168, 088 18 % operating income productivity and business processes $ 29, 687 $ 24, 351 22 % intelligent cloud 32, 721 26, 126 25 % more personal computing 20, 975 19, 439 8 % total $ 83, 383 $ 69, 916 19 %', 'product revenue includes sales from operating systems, cross - device productivity applications, server applications, business solution applications, desktop and server management tools, software development tools, video games, and hardware such as pcs, tablets, gaming and entertainment consoles, other intelligent devices, and related accessories.', 'engineering, gaming, and linkedin. • sales and marketing expenses increased $ 1. 7 billion or 8 % driven by investments in commercial sales and linkedin. sales and marketing included a favorable foreign currency impact of 2 %. • general and administrative expenses increased $ 793 million or 16 % driven by investments in corporate functions. operating income increased $ 13. 5 billion or 19 % driven by growth across each of our segments. current year net income and diluted eps were positively impacted by the net tax benefit related to the transfer of intangible properties, which resulted in an increase to net income and diluted eps of $ 3. 3 billion and $ 0. 44, respectively. prior year net income and diluted eps were positively impacted by the net tax benefit related to the india supreme court decision on withholding taxes, which resulted in an increase to net income and diluted eps of $ 620 million and $ 0. 08, respectively.', '35 reportable segments fiscal year 2022 compared with fiscal year 2021 productivity and business processes revenue increased $ 9. 4 billion or 18 %. • office commercial products and cloud services revenue increased $ 4. 4 billion or 13 %. office 365 commercial revenue grew 18 % driven by seat growth of 14 %, with continued momentum in small and medium business and frontline worker offerings, as well as growth in revenue per user. office commercial products revenue declined 22 % driven by continued customer shift to cloud offerings. • office consumer products and cloud services revenue increased $ 641 million or 11 % driven by microsoft 365 consumer subscription revenue. microsoft 365 consumer subscribers grew 15 % to 59. 7 million. • linkedin revenue increased $ 3. 5 billion or 34 % driven by a strong job market in our talent solutions business and advertising demand in our marketing solutions business.', 'change will increase our fiscal year 2023 operating income by $ 3. 7 billion. we had previously increased the estimated useful lives of both server and network equipment in july 2020.', '66 gains ( losses ), net of tax, on derivative instruments recognized in our consolidated comprehensive income statements were as follows : ( in millions ) year ended june 30, 2022 2021 2020 designated as cash flow hedging instruments foreign exchange contracts included in effectiveness assessment $ ( 57 ) $ 34 $ ( 38 ) note 6 — inventories the components of inventories were as follows : ( in millions ) june 30, 2022 2021 raw materials $ 1, 144 $ 1, 190 work in process 82 79 finished goods 2, 516 1, 367 total $ 3, 742 $ 2, 636 note 7 — property and equipment the components of property and equipment were as follows : ( in millions ) june 30, 2022 2021 land $ 4, 734 $ 3, 660 buildings and improvements 55, 014 43, 928 leasehold improvements 7, 819 6, 884 computer equipment and software 60, 631 51, 250', 'income before tax. other reconciling items, net', 'services. server products revenue increased 5 % driven by hybrid solutions, including windows server and sql server running in multi - cloud environments. • enterprise services revenue increased $ 464 million or 7 % driven by growth in enterprise support services. operating income increased $ 6. 6 billion or 25 %. • gross margin increased $ 9. 4 billion or 22 % driven by growth in azure and other cloud services. gross margin percentage decreased. excluding the impact of the change in accounting estimate, gross margin percentage was relatively unchanged driven by improvement in azure and other cloud services, offset in part by sales mix shift to azure and other cloud services. • operating expenses increased $ 2. 8 billion or 16 % driven by investments in azure and other cloud services. revenue and operating income included an unfavorable foreign currency impact of 2 % and 3 %, respectively. more personal computing revenue increased $ 5. 6 billion or 10 %.', '• windows revenue increased $ 2. 3 billion or 10 % driven by growth in windows oem and windows commercial. windows oem revenue increased 11 % driven by continued strength in the commercial pc market, which has higher revenue per license. windows commercial products and cloud services revenue increased 11 % driven by demand for microsoft 365.', '47 financial statements and supplementary data income statements ( in millions, except per share amounts ) year ended june 30, 2022 2021 2020 revenue : product $ 72, 732 $ 71, 074 $ 68, 041 service and other 125, 538 97, 014 74, 974 total revenue 198, 270 168, 088 143, 015 cost of revenue : product 19, 064 18, 219 16, 017 service and other 43, 586 34, 013 30, 061 total cost of revenue 62, 650 52, 232 46, 078 gross margin 135, 620 115, 856 96, 937 research and development 24, 512 20, 716 19, 269 sales and marketing 21, 825 20, 117 19, 598 general and administrative 5, 900 5, 107 5, 111 operating income 83, 383 69, 916 52, 959 other income, net 333 1, 186 77 income before income taxes 83, 716 71, 102 53, 036 provision for income taxes 10, 978 9, 831 8, 755', 'revenue, classified by significant product and service offerings, was as follows : ( in millions ) year ended june 30, 2022 2021 2020 server products and cloud services $ 67, 321 $ 52, 589 $ 41, 379 office products and cloud services 44, 862 39, 872 35, 316 windows 24, 761 22, 488 21, 510 gaming 16, 230 15, 370 11, 575 linkedin 13, 816 10, 289 8, 077 search and news advertising 11, 591 9, 267 8, 524 enterprise services 7, 407 6, 943 6, 409 devices 6, 991 6, 791 6, 457 other 5, 291 4, 479 3, 768 total $ 198, 270 $ 168, 088 $ 143, 015 we have recast certain previously reported amounts in the table above to conform to the way we internally manage and monitor our business.', 'commercial and consumer businesses. as we have diversity of target audiences and sales motions within the windows business, we monitor metrics that are reflective of those varying motions. windows oem revenue growth revenue from sales of windows pro and non - pro licenses sold through the oem channel windows commercial products and cloud services revenue growth revenue from windows commercial products and cloud services, comprising volume licensing of the windows operating system, windows cloud services, and other windows commercial offerings surface revenue growth revenue from surface devices and accessories xbox content and services revenue growth revenue from xbox content and services, comprising first - and third - party content ( including games and in - game content ), xbox game pass and other subscriptions, xbox cloud gaming, third - party disc royalties, advertising, and other cloud services search and news advertising revenue,', 'that are not sold separately. • we tested the mathematical accuracy of management ’ s calculations of revenue and the associated timing of revenue recognized in the financial statements.', '74 note 13 — unearned revenue unearned revenue by segment was as follows : ( in millions ) june 30, 2022 2021 productivity and business processes $ 24, 558 $ 22, 120 intelligent cloud 19, 371 17, 710 more personal computing 4, 479 4, 311 total $ 48, 408 $ 44, 141 changes in unearned revenue were as follows : ( in millions ) year ended june 30, 2022 balance, beginning of period $ 44, 141 deferral of revenue 110, 455 recognition of unearned revenue ( 106, 188 ) balance, end of period $ 48, 408 revenue allocated to remaining performance obligations, which includes unearned revenue and amounts that will be invoiced and recognized as revenue in future periods, was $ 193 billion as of june 30, 2022, of which $ 189 billion is related to the commercial portion of revenue. we expect to recognize approximately 45 % of this revenue over the next 12', '36 • search and news advertising revenue increased $ 2. 3 billion or 25 %. search and news advertising revenue excluding traffic acquisition costs increased 27 % driven by higher revenue per search and search volume. • gaming revenue increased $ 860 million or 6 % on a strong prior year comparable that benefited from xbox series x | s launches and stay - at - home scenarios, driven by growth in xbox hardware and xbox content and services. xbox hardware revenue increased 16 % due to continued demand for xbox series x | s. xbox content and services revenue increased 3 % driven by growth in xbox game pass subscriptions and first - party content, offset in part by a decline in third - party content. • surface revenue increased $ 226 million or 3 %. operating income increased $ 1. 5 billion or 8 %. • gross margin increased $ 3. 1 billion or 10 % driven by growth in windows and search and news advertising. gross margin percentage was relatively unchanged.', '82 in addition, certain costs incurred at a corporate level that are identifiable and that benefit our segments are allocated to them. these allocated costs include legal, including settlements and fines, information technology, human resources, finance, excise taxes, field selling, shared facilities services, and customer service and support. each allocation is measured differently based on the specific facts and circumstances of the costs being allocated. segment revenue and operating income were as follows during the periods presented : ( in millions ) year ended june 30, 2022 2021 2020 revenue productivity and business processes $ 63, 364 $ 53, 915 $ 46, 398 intelligent cloud 75, 251 60, 080 48, 366 more personal computing 59, 655 54, 093 48, 251 total $ 198, 270 $ 168, 088 $ 143, 015 operating income', 'independent recalculation of prices where appropriate. cash flows cash from operations increased $ 12. 3 billion to $ 89. 0 billion for fiscal year 2022, mainly due to an increase in cash received from customers, offset in part by an increase in cash paid to suppliers and employees. cash used in financing increased $ 10. 4 billion to $ 58. 9 billion for fiscal year 2022, mainly due to a $ 5. 3 billion increase in common stock repurchases and a $ 5. 3 billion increase in repayments of debt. cash used in investing increased $ 2. 7 billion to $ 30. 3 billion for fiscal year 2022, mainly due to a $ 13. 1 billion increase in cash used for acquisitions of companies, net of cash acquired, and purchases of intangible and other assets, and a $ 3. 3 billion increase in additions to property and equipment, offset in part by a $ 15. 6 billion increase in cash from net investment purchases, sales, and maturities.', 'productivity and business processes $ 29, 687 $ 24, 351 $ 18, 724 intelligent cloud 32, 721 26, 126 18, 324 more personal computing 20, 975 19, 439 15, 911 total $ 83, 383 $ 69, 916 $ 52, 959 no sales to an individual customer or country other than the united states accounted for more than 10 % of revenue for fiscal years 2022, 2021, or 2020. revenue, classified by the major geographic areas in which our customers were located, was as follows : ( in millions ) year ended june 30, 2022 2021 2020 united states ( a ) $ 100, 218 $ 83, 953 $ 73, 160 other countries 98, 052 84, 135 69, 855 total $ 198, 270 $ 168, 088 $ 143, 015 ( a ) includes billings to oems and certain multinational organizations because of the nature of these businesses and the impracticability of determining the geographic source of the revenue.', '34 net income tax benefit related to an india supreme court decision on withholding taxes in the third quarter of fiscal year 2021. refer to the non - gaap financial measures section below for a reconciliation of our financial results reported in accordance with gaap to non - gaap financial results. see note 12 – income taxes of the notes to financial statements in our fiscal year 2022 form 10 - k for further discussion. fiscal year 2022 compared with fiscal year 2021 revenue increased $ 30. 2 billion or 18 % driven by growth across each of our segments. intelligent cloud revenue increased driven by azure and other cloud services. productivity and business processes revenue increased driven by office 365 commercial and linkedin. more personal computing revenue increased driven by search and news advertising and windows. cost of revenue increased $ 10. 4 billion or 20 % driven by growth in microsoft cloud.', 'highlights from fiscal year 2022 compared with fiscal year 2021 included : • microsoft cloud ( formerly commercial cloud ) revenue increased 32 % to $ 91. 2 billion. • office commercial products and cloud services revenue increased 13 % driven by office 365 commercial growth of 18 %. • office consumer products and cloud services revenue increased 11 % and microsoft 365 consumer subscribers grew to 59. 7 million. • linkedin revenue increased 34 %. • dynamics products and cloud services revenue increased 25 % driven by dynamics 365 growth of 39 %. • server products and cloud services revenue increased 28 % driven by azure and other cloud services growth of 45 %. • windows original equipment manufacturer licensing ( “ windows oem ” ) revenue increased 11 %. • windows commercial products and cloud services revenue increased 11 %. • xbox content and services revenue increased 3 %. • search and news advertising revenue excluding traffic acquisition costs increased 27 %.']\n"
     ]
    }
   ],
   "source": [
    "# Deduplicate the retrieved documents\n",
    "unique_documents = set()\n",
    "for documents in retrieved_documents:\n",
    "    for document in documents:\n",
    "        unique_documents.add(document)\n",
    "\n",
    "unique_documents = list(unique_documents)\n",
    "print(unique_documents)"
   ]
  },
  {
   "cell_type": "code",
   "execution_count": 15,
   "id": "db9f2758-0f5a-49e5-b1fa-517b91324575",
   "metadata": {
    "height": 65
   },
   "outputs": [
    {
     "name": "stdout",
     "output_type": "stream",
     "text": [
      "[['What were the most important factors that contributed to increases in revenue?', '( in millions, except percentages ) 2022 2021 percentage change sales and marketing $ 21, 825 $ 20, 117 8 % as a percent of revenue 11 % 12 % ( 1 ) ppt sales and marketing expenses include payroll, employee benefits, stock - based compensation expense, and other headcount - related expenses associated with sales and marketing personnel, and the costs of advertising, promotions, trade shows, seminars, and other programs. sales and marketing expenses increased $ 1. 7 billion or 8 % driven by investments in commercial sales and linkedin. sales and marketing included a favorable foreign currency impact of 2 %. general and administrative ( in millions, except percentages ) 2022 2021 percentage change general and administrative $ 5, 900 $ 5, 107 16 % as a percent of revenue 3 % 3 % 0ppt'], ['What were the most important factors that contributed to increases in revenue?', '37 general and administrative expenses include payroll, employee benefits, stock - based compensation expense, and other headcount - related expenses associated with finance, legal, facilities, certain human resources and other administrative personnel, certain taxes, and legal and other administrative fees. general and administrative expenses increased $ 793 million or 16 % driven by investments in corporate functions. other income ( expense ), net the components of other income ( expense ), net were as follows : ( in millions ) year ended june 30, 2022 2021 interest and dividends income $ 2, 094 $ 2, 131 interest expense ( 2, 063 ) ( 2, 346 ) net recognized gains on investments 461 1, 232 net gains ( losses ) on derivatives ( 52 ) 17 net gains ( losses ) on foreign currency remeasurements ( 75 ) 54 other, net ( 32 ) 98 total $ 333 $ 1, 186'], ['What were the most important factors that contributed to increases in revenue?', '• dynamics products and cloud services revenue increased 25 % driven by dynamics 365 growth of 39 %. operating income increased $ 5. 3 billion or 22 %. • gross margin increased $ 7. 3 billion or 17 % driven by growth in office 365 commercial and linkedin. gross margin percentage was relatively unchanged. excluding the impact of the change in accounting estimate, gross margin percentage increased 2 points driven by improvement across all cloud services. • operating expenses increased $ 2. 0 billion or 11 % driven by investments in linkedin and cloud engineering. gross margin and operating income both included an unfavorable foreign currency impact of 2 %. intelligent cloud revenue increased $ 15. 2 billion or 25 %. • server products and cloud services revenue increased $ 14. 7 billion or 28 % driven by azure and other cloud services. azure and other cloud services revenue grew 45 % driven by growth in our consumption - based'], ['What were the most important factors that contributed to increases in revenue?', 'gross margin and operating income both included an unfavorable foreign currency impact of 2 %. segment results of operations ( in millions, except percentages ) 2022 2021 percentage change revenue productivity and business processes $ 63, 364 $ 53, 915 18 % intelligent cloud 75, 251 60, 080 25 % more personal computing 59, 655 54, 093 10 % total $ 198, 270 $ 168, 088 18 % operating income productivity and business processes $ 29, 687 $ 24, 351 22 % intelligent cloud 32, 721 26, 126 25 % more personal computing 20, 975 19, 439 8 % total $ 83, 383 $ 69, 916 19 %'], ['What were the most important factors that contributed to increases in revenue?', 'product revenue includes sales from operating systems, cross - device productivity applications, server applications, business solution applications, desktop and server management tools, software development tools, video games, and hardware such as pcs, tablets, gaming and entertainment consoles, other intelligent devices, and related accessories.'], ['What were the most important factors that contributed to increases in revenue?', 'engineering, gaming, and linkedin. • sales and marketing expenses increased $ 1. 7 billion or 8 % driven by investments in commercial sales and linkedin. sales and marketing included a favorable foreign currency impact of 2 %. • general and administrative expenses increased $ 793 million or 16 % driven by investments in corporate functions. operating income increased $ 13. 5 billion or 19 % driven by growth across each of our segments. current year net income and diluted eps were positively impacted by the net tax benefit related to the transfer of intangible properties, which resulted in an increase to net income and diluted eps of $ 3. 3 billion and $ 0. 44, respectively. prior year net income and diluted eps were positively impacted by the net tax benefit related to the india supreme court decision on withholding taxes, which resulted in an increase to net income and diluted eps of $ 620 million and $ 0. 08, respectively.'], ['What were the most important factors that contributed to increases in revenue?', '35 reportable segments fiscal year 2022 compared with fiscal year 2021 productivity and business processes revenue increased $ 9. 4 billion or 18 %. • office commercial products and cloud services revenue increased $ 4. 4 billion or 13 %. office 365 commercial revenue grew 18 % driven by seat growth of 14 %, with continued momentum in small and medium business and frontline worker offerings, as well as growth in revenue per user. office commercial products revenue declined 22 % driven by continued customer shift to cloud offerings. • office consumer products and cloud services revenue increased $ 641 million or 11 % driven by microsoft 365 consumer subscription revenue. microsoft 365 consumer subscribers grew 15 % to 59. 7 million. • linkedin revenue increased $ 3. 5 billion or 34 % driven by a strong job market in our talent solutions business and advertising demand in our marketing solutions business.'], ['What were the most important factors that contributed to increases in revenue?', 'change will increase our fiscal year 2023 operating income by $ 3. 7 billion. we had previously increased the estimated useful lives of both server and network equipment in july 2020.'], ['What were the most important factors that contributed to increases in revenue?', '66 gains ( losses ), net of tax, on derivative instruments recognized in our consolidated comprehensive income statements were as follows : ( in millions ) year ended june 30, 2022 2021 2020 designated as cash flow hedging instruments foreign exchange contracts included in effectiveness assessment $ ( 57 ) $ 34 $ ( 38 ) note 6 — inventories the components of inventories were as follows : ( in millions ) june 30, 2022 2021 raw materials $ 1, 144 $ 1, 190 work in process 82 79 finished goods 2, 516 1, 367 total $ 3, 742 $ 2, 636 note 7 — property and equipment the components of property and equipment were as follows : ( in millions ) june 30, 2022 2021 land $ 4, 734 $ 3, 660 buildings and improvements 55, 014 43, 928 leasehold improvements 7, 819 6, 884 computer equipment and software 60, 631 51, 250'], ['What were the most important factors that contributed to increases in revenue?', 'income before tax. other reconciling items, net'], ['What were the most important factors that contributed to increases in revenue?', 'services. server products revenue increased 5 % driven by hybrid solutions, including windows server and sql server running in multi - cloud environments. • enterprise services revenue increased $ 464 million or 7 % driven by growth in enterprise support services. operating income increased $ 6. 6 billion or 25 %. • gross margin increased $ 9. 4 billion or 22 % driven by growth in azure and other cloud services. gross margin percentage decreased. excluding the impact of the change in accounting estimate, gross margin percentage was relatively unchanged driven by improvement in azure and other cloud services, offset in part by sales mix shift to azure and other cloud services. • operating expenses increased $ 2. 8 billion or 16 % driven by investments in azure and other cloud services. revenue and operating income included an unfavorable foreign currency impact of 2 % and 3 %, respectively. more personal computing revenue increased $ 5. 6 billion or 10 %.'], ['What were the most important factors that contributed to increases in revenue?', '• windows revenue increased $ 2. 3 billion or 10 % driven by growth in windows oem and windows commercial. windows oem revenue increased 11 % driven by continued strength in the commercial pc market, which has higher revenue per license. windows commercial products and cloud services revenue increased 11 % driven by demand for microsoft 365.'], ['What were the most important factors that contributed to increases in revenue?', '47 financial statements and supplementary data income statements ( in millions, except per share amounts ) year ended june 30, 2022 2021 2020 revenue : product $ 72, 732 $ 71, 074 $ 68, 041 service and other 125, 538 97, 014 74, 974 total revenue 198, 270 168, 088 143, 015 cost of revenue : product 19, 064 18, 219 16, 017 service and other 43, 586 34, 013 30, 061 total cost of revenue 62, 650 52, 232 46, 078 gross margin 135, 620 115, 856 96, 937 research and development 24, 512 20, 716 19, 269 sales and marketing 21, 825 20, 117 19, 598 general and administrative 5, 900 5, 107 5, 111 operating income 83, 383 69, 916 52, 959 other income, net 333 1, 186 77 income before income taxes 83, 716 71, 102 53, 036 provision for income taxes 10, 978 9, 831 8, 755'], ['What were the most important factors that contributed to increases in revenue?', 'revenue, classified by significant product and service offerings, was as follows : ( in millions ) year ended june 30, 2022 2021 2020 server products and cloud services $ 67, 321 $ 52, 589 $ 41, 379 office products and cloud services 44, 862 39, 872 35, 316 windows 24, 761 22, 488 21, 510 gaming 16, 230 15, 370 11, 575 linkedin 13, 816 10, 289 8, 077 search and news advertising 11, 591 9, 267 8, 524 enterprise services 7, 407 6, 943 6, 409 devices 6, 991 6, 791 6, 457 other 5, 291 4, 479 3, 768 total $ 198, 270 $ 168, 088 $ 143, 015 we have recast certain previously reported amounts in the table above to conform to the way we internally manage and monitor our business.'], ['What were the most important factors that contributed to increases in revenue?', 'commercial and consumer businesses. as we have diversity of target audiences and sales motions within the windows business, we monitor metrics that are reflective of those varying motions. windows oem revenue growth revenue from sales of windows pro and non - pro licenses sold through the oem channel windows commercial products and cloud services revenue growth revenue from windows commercial products and cloud services, comprising volume licensing of the windows operating system, windows cloud services, and other windows commercial offerings surface revenue growth revenue from surface devices and accessories xbox content and services revenue growth revenue from xbox content and services, comprising first - and third - party content ( including games and in - game content ), xbox game pass and other subscriptions, xbox cloud gaming, third - party disc royalties, advertising, and other cloud services search and news advertising revenue,'], ['What were the most important factors that contributed to increases in revenue?', 'that are not sold separately. • we tested the mathematical accuracy of management ’ s calculations of revenue and the associated timing of revenue recognized in the financial statements.'], ['What were the most important factors that contributed to increases in revenue?', '74 note 13 — unearned revenue unearned revenue by segment was as follows : ( in millions ) june 30, 2022 2021 productivity and business processes $ 24, 558 $ 22, 120 intelligent cloud 19, 371 17, 710 more personal computing 4, 479 4, 311 total $ 48, 408 $ 44, 141 changes in unearned revenue were as follows : ( in millions ) year ended june 30, 2022 balance, beginning of period $ 44, 141 deferral of revenue 110, 455 recognition of unearned revenue ( 106, 188 ) balance, end of period $ 48, 408 revenue allocated to remaining performance obligations, which includes unearned revenue and amounts that will be invoiced and recognized as revenue in future periods, was $ 193 billion as of june 30, 2022, of which $ 189 billion is related to the commercial portion of revenue. we expect to recognize approximately 45 % of this revenue over the next 12'], ['What were the most important factors that contributed to increases in revenue?', '36 • search and news advertising revenue increased $ 2. 3 billion or 25 %. search and news advertising revenue excluding traffic acquisition costs increased 27 % driven by higher revenue per search and search volume. • gaming revenue increased $ 860 million or 6 % on a strong prior year comparable that benefited from xbox series x | s launches and stay - at - home scenarios, driven by growth in xbox hardware and xbox content and services. xbox hardware revenue increased 16 % due to continued demand for xbox series x | s. xbox content and services revenue increased 3 % driven by growth in xbox game pass subscriptions and first - party content, offset in part by a decline in third - party content. • surface revenue increased $ 226 million or 3 %. operating income increased $ 1. 5 billion or 8 %. • gross margin increased $ 3. 1 billion or 10 % driven by growth in windows and search and news advertising. gross margin percentage was relatively unchanged.'], ['What were the most important factors that contributed to increases in revenue?', '82 in addition, certain costs incurred at a corporate level that are identifiable and that benefit our segments are allocated to them. these allocated costs include legal, including settlements and fines, information technology, human resources, finance, excise taxes, field selling, shared facilities services, and customer service and support. each allocation is measured differently based on the specific facts and circumstances of the costs being allocated. segment revenue and operating income were as follows during the periods presented : ( in millions ) year ended june 30, 2022 2021 2020 revenue productivity and business processes $ 63, 364 $ 53, 915 $ 46, 398 intelligent cloud 75, 251 60, 080 48, 366 more personal computing 59, 655 54, 093 48, 251 total $ 198, 270 $ 168, 088 $ 143, 015 operating income'], ['What were the most important factors that contributed to increases in revenue?', 'independent recalculation of prices where appropriate. cash flows cash from operations increased $ 12. 3 billion to $ 89. 0 billion for fiscal year 2022, mainly due to an increase in cash received from customers, offset in part by an increase in cash paid to suppliers and employees. cash used in financing increased $ 10. 4 billion to $ 58. 9 billion for fiscal year 2022, mainly due to a $ 5. 3 billion increase in common stock repurchases and a $ 5. 3 billion increase in repayments of debt. cash used in investing increased $ 2. 7 billion to $ 30. 3 billion for fiscal year 2022, mainly due to a $ 13. 1 billion increase in cash used for acquisitions of companies, net of cash acquired, and purchases of intangible and other assets, and a $ 3. 3 billion increase in additions to property and equipment, offset in part by a $ 15. 6 billion increase in cash from net investment purchases, sales, and maturities.'], ['What were the most important factors that contributed to increases in revenue?', 'productivity and business processes $ 29, 687 $ 24, 351 $ 18, 724 intelligent cloud 32, 721 26, 126 18, 324 more personal computing 20, 975 19, 439 15, 911 total $ 83, 383 $ 69, 916 $ 52, 959 no sales to an individual customer or country other than the united states accounted for more than 10 % of revenue for fiscal years 2022, 2021, or 2020. revenue, classified by the major geographic areas in which our customers were located, was as follows : ( in millions ) year ended june 30, 2022 2021 2020 united states ( a ) $ 100, 218 $ 83, 953 $ 73, 160 other countries 98, 052 84, 135 69, 855 total $ 198, 270 $ 168, 088 $ 143, 015 ( a ) includes billings to oems and certain multinational organizations because of the nature of these businesses and the impracticability of determining the geographic source of the revenue.'], ['What were the most important factors that contributed to increases in revenue?', '34 net income tax benefit related to an india supreme court decision on withholding taxes in the third quarter of fiscal year 2021. refer to the non - gaap financial measures section below for a reconciliation of our financial results reported in accordance with gaap to non - gaap financial results. see note 12 – income taxes of the notes to financial statements in our fiscal year 2022 form 10 - k for further discussion. fiscal year 2022 compared with fiscal year 2021 revenue increased $ 30. 2 billion or 18 % driven by growth across each of our segments. intelligent cloud revenue increased driven by azure and other cloud services. productivity and business processes revenue increased driven by office 365 commercial and linkedin. more personal computing revenue increased driven by search and news advertising and windows. cost of revenue increased $ 10. 4 billion or 20 % driven by growth in microsoft cloud.'], ['What were the most important factors that contributed to increases in revenue?', 'highlights from fiscal year 2022 compared with fiscal year 2021 included : • microsoft cloud ( formerly commercial cloud ) revenue increased 32 % to $ 91. 2 billion. • office commercial products and cloud services revenue increased 13 % driven by office 365 commercial growth of 18 %. • office consumer products and cloud services revenue increased 11 % and microsoft 365 consumer subscribers grew to 59. 7 million. • linkedin revenue increased 34 %. • dynamics products and cloud services revenue increased 25 % driven by dynamics 365 growth of 39 %. • server products and cloud services revenue increased 28 % driven by azure and other cloud services growth of 45 %. • windows original equipment manufacturer licensing ( “ windows oem ” ) revenue increased 11 %. • windows commercial products and cloud services revenue increased 11 %. • xbox content and services revenue increased 3 %. • search and news advertising revenue excluding traffic acquisition costs increased 27 %.']]\n"
     ]
    }
   ],
   "source": [
    "pairs = []\n",
    "for doc in unique_documents:\n",
    "    pairs.append([original_query, doc])\n",
    "print(pairs)"
   ]
  },
  {
   "cell_type": "code",
   "execution_count": 17,
   "id": "aee59493-8a99-4da8-b94f-4747efcfc79d",
   "metadata": {
    "height": 48
   },
   "outputs": [
    {
     "name": "stdout",
     "output_type": "stream",
     "text": [
      "[ -7.754101   -8.505108   -5.141831  -10.042843   -7.4906554  -5.27475\n",
      "  -4.8184853  -7.9171762 -11.079268  -10.711211   -3.7948625  -1.1369957\n",
      " -10.08394    -9.918428  -10.000137   -9.768024  -10.148885   -3.7681527\n",
      "  -9.8078785  -6.9020905  -9.357722   -4.651892   -4.3417664]\n"
     ]
    }
   ],
   "source": [
    "scores = cross_encoder.predict(pairs)\n",
    "print(scores)"
   ]
  },
  {
   "cell_type": "code",
   "execution_count": 12,
   "id": "f5eda9bc-ae76-4db6-9e0c-ae099d852d78",
   "metadata": {
    "height": 65
   },
   "outputs": [
    {
     "name": "stdout",
     "output_type": "stream",
     "text": [
      "Scores:\n",
      "-7.754101\n",
      "-8.505108\n",
      "-5.141831\n",
      "-10.042843\n",
      "-7.4906554\n",
      "-5.27475\n",
      "-4.8184853\n",
      "-7.9171762\n",
      "-11.079268\n",
      "-10.711211\n",
      "-3.7948625\n",
      "-1.1369957\n",
      "-10.08394\n",
      "-9.918428\n",
      "-10.000137\n",
      "-9.768024\n",
      "-10.148885\n",
      "-3.7681527\n",
      "-9.8078785\n",
      "-6.9020905\n",
      "-9.357722\n",
      "-4.651892\n",
      "-4.3417664\n"
     ]
    }
   ],
   "source": [
    "print(\"Scores:\")\n",
    "for score in scores:\n",
    "    print(score)"
   ]
  },
  {
   "cell_type": "code",
   "execution_count": 13,
   "id": "b1183e75-4c65-422e-bc47-48010d8b29c9",
   "metadata": {
    "height": 65
   },
   "outputs": [
    {
     "name": "stdout",
     "output_type": "stream",
     "text": [
      "New Ordering:\n",
      "11\n",
      "17\n",
      "10\n",
      "22\n",
      "21\n",
      "6\n",
      "2\n",
      "5\n",
      "19\n",
      "4\n",
      "0\n",
      "7\n",
      "1\n",
      "20\n",
      "15\n",
      "18\n",
      "13\n",
      "14\n",
      "3\n",
      "12\n",
      "16\n",
      "9\n",
      "8\n"
     ]
    }
   ],
   "source": [
    "print(\"New Ordering:\")\n",
    "for o in np.argsort(scores)[::-1]:\n",
    "    print(o)"
   ]
  },
  {
   "cell_type": "code",
   "execution_count": null,
   "id": "5fcd85cc-8898-41ed-a0aa-bd8a33fc565a",
   "metadata": {
    "height": 31
   },
   "outputs": [],
   "source": []
  },
  {
   "cell_type": "code",
   "execution_count": null,
   "id": "c65337e9-85ee-47f7-89fd-7fe77cd0e1b2",
   "metadata": {
    "height": 31
   },
   "outputs": [],
   "source": []
  },
  {
   "cell_type": "code",
   "execution_count": null,
   "id": "a7794092-4195-4cf3-9eab-11c9c05a26b9",
   "metadata": {
    "height": 31
   },
   "outputs": [],
   "source": []
  },
  {
   "cell_type": "code",
   "execution_count": null,
   "id": "f2cab7a1-1be7-45f0-83b7-543e48f83901",
   "metadata": {
    "height": 31
   },
   "outputs": [],
   "source": []
  },
  {
   "cell_type": "code",
   "execution_count": null,
   "id": "fe0343be-73c9-4aed-83b0-aba09569ac87",
   "metadata": {
    "height": 31
   },
   "outputs": [],
   "source": []
  },
  {
   "cell_type": "code",
   "execution_count": null,
   "id": "6f0f3e33-e517-4f6b-8b38-c47c1e3d40b4",
   "metadata": {
    "height": 31
   },
   "outputs": [],
   "source": []
  },
  {
   "cell_type": "code",
   "execution_count": null,
   "id": "a16fdcb1-57d0-4f04-af8f-7c7fc594d947",
   "metadata": {
    "height": 31
   },
   "outputs": [],
   "source": []
  },
  {
   "cell_type": "code",
   "execution_count": null,
   "id": "babe7893-9cbc-43c5-94ef-cbf8f5d68cf2",
   "metadata": {
    "height": 31
   },
   "outputs": [],
   "source": []
  },
  {
   "cell_type": "code",
   "execution_count": null,
   "id": "60a9524b-1085-4bdf-a161-39f11397dc1f",
   "metadata": {
    "height": 31
   },
   "outputs": [],
   "source": []
  },
  {
   "cell_type": "code",
   "execution_count": null,
   "id": "d189f088-b58e-4583-9590-afdfa624cf87",
   "metadata": {
    "height": 31
   },
   "outputs": [],
   "source": []
  },
  {
   "cell_type": "code",
   "execution_count": null,
   "id": "7b26a01a-4575-446b-b8dc-a8c5ab153172",
   "metadata": {
    "height": 31
   },
   "outputs": [],
   "source": []
  },
  {
   "cell_type": "code",
   "execution_count": null,
   "id": "0950575b-b69d-46a3-8c91-c7af89f5c204",
   "metadata": {
    "height": 31
   },
   "outputs": [],
   "source": []
  },
  {
   "cell_type": "code",
   "execution_count": null,
   "id": "3f123ad8-b2e8-4a25-8b42-a520ecaf566b",
   "metadata": {
    "height": 31
   },
   "outputs": [],
   "source": []
  },
  {
   "cell_type": "code",
   "execution_count": null,
   "id": "83c04587-d1de-419c-a213-2e3eb67dc33d",
   "metadata": {
    "height": 31
   },
   "outputs": [],
   "source": []
  },
  {
   "cell_type": "code",
   "execution_count": null,
   "id": "d3155972-824e-4ebe-a692-2227c113c5a8",
   "metadata": {
    "height": 31
   },
   "outputs": [],
   "source": []
  },
  {
   "cell_type": "code",
   "execution_count": null,
   "id": "d8144a4a-85f6-4800-87f9-36a1b6ceda1f",
   "metadata": {
    "height": 31
   },
   "outputs": [],
   "source": []
  },
  {
   "cell_type": "code",
   "execution_count": null,
   "id": "8ff0b18e-12a0-4ac0-97dd-8618b22e7dbf",
   "metadata": {
    "height": 31
   },
   "outputs": [],
   "source": []
  },
  {
   "cell_type": "code",
   "execution_count": null,
   "id": "03ca7e7c-4b47-4652-9b46-a40b3dffa5e6",
   "metadata": {
    "height": 31
   },
   "outputs": [],
   "source": []
  },
  {
   "cell_type": "code",
   "execution_count": null,
   "id": "f74e7d67-7f51-41c4-8e25-edbaa02d0bd8",
   "metadata": {
    "height": 31
   },
   "outputs": [],
   "source": []
  },
  {
   "cell_type": "code",
   "execution_count": null,
   "id": "9188e886-d406-406f-b234-f5c3353a77a2",
   "metadata": {
    "height": 31
   },
   "outputs": [],
   "source": []
  },
  {
   "cell_type": "code",
   "execution_count": null,
   "id": "3d3bb286-2694-4ed4-8466-46865e997ced",
   "metadata": {
    "height": 31
   },
   "outputs": [],
   "source": []
  },
  {
   "cell_type": "code",
   "execution_count": null,
   "id": "2876084b-4038-4b0c-8ec8-8294a86adfc1",
   "metadata": {
    "height": 31
   },
   "outputs": [],
   "source": []
  },
  {
   "cell_type": "code",
   "execution_count": null,
   "id": "3ac542e1-b094-431f-9611-cf7e36d3f0de",
   "metadata": {
    "height": 31
   },
   "outputs": [],
   "source": []
  },
  {
   "cell_type": "code",
   "execution_count": null,
   "id": "bcd6114b-c09d-4173-a623-9a08aaf63e4b",
   "metadata": {
    "height": 31
   },
   "outputs": [],
   "source": []
  },
  {
   "cell_type": "code",
   "execution_count": null,
   "id": "ad10ab65-b351-4f4b-b7d2-63474acfb9f9",
   "metadata": {
    "height": 31
   },
   "outputs": [],
   "source": []
  },
  {
   "cell_type": "code",
   "execution_count": null,
   "id": "800f3d81-cbdb-4ba4-8d49-85747fdfded8",
   "metadata": {
    "height": 31
   },
   "outputs": [],
   "source": []
  },
  {
   "cell_type": "code",
   "execution_count": null,
   "id": "37847448-c9f6-4f51-bf06-f7809964a8b2",
   "metadata": {
    "height": 31
   },
   "outputs": [],
   "source": []
  },
  {
   "cell_type": "code",
   "execution_count": null,
   "id": "2dcefc87-0964-4b94-946b-2145781ad606",
   "metadata": {
    "height": 31
   },
   "outputs": [],
   "source": []
  },
  {
   "cell_type": "code",
   "execution_count": null,
   "id": "5fc994bc-7b1e-476a-9df9-300a3e374882",
   "metadata": {
    "height": 31
   },
   "outputs": [],
   "source": []
  },
  {
   "cell_type": "code",
   "execution_count": null,
   "id": "9ef5f5d5-acb7-4b0a-93ef-e61306708e69",
   "metadata": {
    "height": 31
   },
   "outputs": [],
   "source": []
  },
  {
   "cell_type": "code",
   "execution_count": null,
   "id": "44e4b33f-d8fb-4f3a-b884-8b43a3766583",
   "metadata": {
    "height": 31
   },
   "outputs": [],
   "source": []
  },
  {
   "cell_type": "code",
   "execution_count": null,
   "id": "c2a480a2-2c29-4a01-80dd-ee41934b7901",
   "metadata": {
    "height": 31
   },
   "outputs": [],
   "source": []
  },
  {
   "cell_type": "code",
   "execution_count": null,
   "id": "8127c2bf-0d15-4b62-b46a-f7a17ad2ec92",
   "metadata": {
    "height": 31
   },
   "outputs": [],
   "source": []
  },
  {
   "cell_type": "code",
   "execution_count": null,
   "id": "18ded129-a637-4269-a116-550fe9a90570",
   "metadata": {
    "height": 31
   },
   "outputs": [],
   "source": []
  },
  {
   "cell_type": "code",
   "execution_count": null,
   "id": "c1d7ee44-7b29-483f-a3f2-cc9d8e18880e",
   "metadata": {
    "height": 31
   },
   "outputs": [],
   "source": []
  },
  {
   "cell_type": "code",
   "execution_count": null,
   "id": "8e450dd8-9719-42c6-8c3c-33cac910e0a5",
   "metadata": {
    "height": 31
   },
   "outputs": [],
   "source": []
  }
 ],
 "metadata": {
  "kernelspec": {
   "display_name": "Python 3 (ipykernel)",
   "language": "python",
   "name": "python3"
  },
  "language_info": {
   "codemirror_mode": {
    "name": "ipython",
    "version": 3
   },
   "file_extension": ".py",
   "mimetype": "text/x-python",
   "name": "python",
   "nbconvert_exporter": "python",
   "pygments_lexer": "ipython3",
   "version": "3.11.4"
  }
 },
 "nbformat": 4,
 "nbformat_minor": 5
}
